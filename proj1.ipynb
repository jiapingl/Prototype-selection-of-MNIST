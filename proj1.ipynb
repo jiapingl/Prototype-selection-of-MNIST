{
 "cells": [
  {
   "cell_type": "code",
   "execution_count": 1,
   "metadata": {},
   "outputs": [],
   "source": [
    "import numpy as np \n",
    "import struct\n",
    "import matplotlib.pyplot as plt\n",
    "\n",
    "class DataUtils(object):\n",
    "    \n",
    "    def __init__(self, filename=None, outpath=None):\n",
    "        self._filename = filename\n",
    "        self._outpath = outpath\n",
    "        \n",
    "        self._tag = '>'\n",
    "        self._twoBytes = 'II'\n",
    "        self._fourBytes = 'IIII'    \n",
    "        self._pictureBytes = '784B'\n",
    "        self._labelByte = '1B'\n",
    "        self._twoBytes2 = self._tag + self._twoBytes\n",
    "        self._fourBytes2 = self._tag + self._fourBytes\n",
    "        self._pictureBytes2 = self._tag + self._pictureBytes\n",
    "        self._labelByte2 = self._tag + self._labelByte\n",
    "    \n",
    "    def getImage(self):\n",
    "        \"\"\"\n",
    "        将MNIST的二进制文件转换成像素特征数据\n",
    "        \"\"\"\n",
    "        binfile = open(self._filename, 'rb') #以二进制方式打开文件\n",
    "        buf = binfile.read() \n",
    "        binfile.close()\n",
    "        index = 0\n",
    "        numMagic,numImgs,numRows,numCols=struct.unpack_from(self._fourBytes2,\\\n",
    "                                                                    buf,\\\n",
    "                                                                    index)\n",
    "        index += struct.calcsize(self._fourBytes)\n",
    "        images = []\n",
    "        for i in range(numImgs):\n",
    "            imgVal = struct.unpack_from(self._pictureBytes2, buf, index)\n",
    "            index += struct.calcsize(self._pictureBytes2)\n",
    "            imgVal = list(imgVal)\n",
    "            avg=sum(imgVal)/(len(imgVal))\n",
    "            for j in range(len(imgVal)):\n",
    "                if imgVal[j] >= avg:\n",
    "                    imgVal[j] = 256\n",
    "                else: imgVal[j]=0\n",
    "            images.append(imgVal)\n",
    "        return np.array(images)\n",
    "        \n",
    "    def getLabel(self):\n",
    "        \"\"\"\n",
    "        将MNIST中label二进制文件转换成对应的label数字特征\n",
    "        \"\"\"\n",
    "        binFile = open(self._filename,'rb')\n",
    "        buf = binFile.read()\n",
    "        binFile.close()\n",
    "        index = 0\n",
    "        magic, numItems= struct.unpack_from(self._twoBytes2, buf,index)\n",
    "        index += struct.calcsize(self._twoBytes2)\n",
    "        labels = [];\n",
    "        for x in range(numItems):\n",
    "            im = struct.unpack_from(self._labelByte2,buf,index)\n",
    "            index += struct.calcsize(self._labelByte2)\n",
    "            labels.append(im[0])\n",
    "        return np.array(labels)\n"
   ]
  },
  {
   "cell_type": "code",
   "execution_count": 2,
   "metadata": {
    "collapsed": true
   },
   "outputs": [],
   "source": [
    "def main():\n",
    "        trainfile_X = '/Users/luojp/Desktop/pro1/train-images-idx3-ubyte'\n",
    "        trainfile_y = '/Users/luojp/Desktop/pro1/train-labels-idx1-ubyte'\n",
    "        testfile_X = '/Users/luojp/Desktop/pro1/t10k-images-idx3-ubyte'\n",
    "        testfile_y = '/Users/luojp/Desktop/pro1/t10k-labels-idx1-ubyte'\n",
    "        \n",
    "        train_X = DataUtils(filename=trainfile_X).getImage()\n",
    "        train_y = DataUtils(filename=trainfile_y).getLabel()\n",
    "        test_X = DataUtils(testfile_X).getImage()\n",
    "        test_y = DataUtils(testfile_y).getLabel()\n",
    "\n",
    "        return train_X, train_y, test_X, test_y "
   ]
  },
  {
   "cell_type": "code",
   "execution_count": 3,
   "metadata": {},
   "outputs": [],
   "source": [
    "train_X, train_y, test_X, test_y = main()"
   ]
  },
  {
   "cell_type": "code",
   "execution_count": null,
   "metadata": {},
   "outputs": [],
   "source": []
  },
  {
   "cell_type": "code",
   "execution_count": 4,
   "metadata": {},
   "outputs": [],
   "source": [
    "import random\n",
    "from sklearn.utils import safe_indexing\n",
    "whole_index=[]\n",
    "for majority_class in range(0,10):\n",
    "    index_arr=np.flatnonzero(train_y == majority_class)\n",
    "    list=[]\n",
    "    while(1):\n",
    "        random_index=np.random.randint(0,len(index_arr))\n",
    "        if(random_index not in list):\n",
    "            list.append(index_arr[random_index])\n",
    "        if(len(list)==5): break;\n",
    "    whole_index+=list"
   ]
  },
  {
   "cell_type": "code",
   "execution_count": 5,
   "metadata": {},
   "outputs": [],
   "source": [
    "sample_X=safe_indexing(train_X,whole_index)\n",
    "sample_y=safe_indexing(train_y,whole_index)"
   ]
  },
  {
   "cell_type": "code",
   "execution_count": 6,
   "metadata": {},
   "outputs": [
    {
     "data": {
      "text/plain": [
       "KNeighborsClassifier(algorithm='kd_tree', leaf_size=30, metric='minkowski',\n",
       "           metric_params=None, n_jobs=1, n_neighbors=3, p=2,\n",
       "           weights='uniform')"
      ]
     },
     "execution_count": 6,
     "metadata": {},
     "output_type": "execute_result"
    }
   ],
   "source": [
    "from sklearn.neighbors import KNeighborsClassifier\n",
    "import numpy\n",
    "neigh=KNeighborsClassifier(n_neighbors=3,algorithm='kd_tree')\n",
    "neigh.fit(sample_X,sample_y)"
   ]
  },
  {
   "cell_type": "code",
   "execution_count": 7,
   "metadata": {},
   "outputs": [],
   "source": [
    "for index in random.sample(range(0, len(train_y)), 60000):\n",
    "    target_image=train_X[index]\n",
    "    prediction=neigh.predict([target_image])\n",
    "    if(prediction!=train_y[index]):\n",
    "        whole_index=numpy.append(whole_index,index)\n",
    "        sample_X=safe_indexing(train_X,whole_index)\n",
    "        sample_y=safe_indexing(train_y,whole_index)\n",
    "        neigh.fit(sample_X,sample_y)\n",
    "    if len(sample_X)==1000: break;"
   ]
  },
  {
   "cell_type": "code",
   "execution_count": 9,
   "metadata": {
    "collapsed": true
   },
   "outputs": [],
   "source": [
    "for index in random.sample(range(0, len(train_y)), 10000-4540):\n",
    "    target_image=train_X[index]\n",
    "    whole_index=numpy.append(whole_index,index)\n",
    "sample_X=safe_indexing(train_X,whole_index)\n",
    "sample_y=safe_indexing(train_y,whole_index)"
   ]
  },
  {
   "cell_type": "code",
   "execution_count": 8,
   "metadata": {},
   "outputs": [
    {
     "data": {
      "text/plain": [
       "1000"
      ]
     },
     "execution_count": 8,
     "metadata": {},
     "output_type": "execute_result"
    }
   ],
   "source": [
    "len(sample_X)"
   ]
  },
  {
   "cell_type": "code",
   "execution_count": 9,
   "metadata": {},
   "outputs": [],
   "source": [
    "random_list=random.sample(range(0, len(train_y)), 1000)"
   ]
  },
  {
   "cell_type": "code",
   "execution_count": 10,
   "metadata": {},
   "outputs": [],
   "source": [
    "random_X=safe_indexing(train_X,random_list)\n",
    "random_y=safe_indexing(train_y,random_list)"
   ]
  },
  {
   "cell_type": "code",
   "execution_count": 11,
   "metadata": {},
   "outputs": [
    {
     "name": "stdout",
     "output_type": "stream",
     "text": [
      "0.8911\n"
     ]
    }
   ],
   "source": [
    "neigh.fit(random_X,random_y)\n",
    "random_prediction=neigh.predict(test_X)\n",
    "random_correct=[(a==b) for (a,b) in zip(random_prediction,test_y)]\n",
    "random_acc=sum(random_correct)*1.0/len(random_correct)\n",
    "print random_acc"
   ]
  },
  {
   "cell_type": "code",
   "execution_count": 12,
   "metadata": {},
   "outputs": [
    {
     "name": "stdout",
     "output_type": "stream",
     "text": [
      "0.9007\n"
     ]
    }
   ],
   "source": [
    "neigh.fit(sample_X,sample_y)\n",
    "sample_prediction=neigh.predict(test_X)\n",
    "sample_correct=[(a==b) for (a,b) in zip(sample_prediction,test_y)]\n",
    "sample_acc=sum(sample_correct)*1.0/len(sample_correct)\n",
    "print sample_acc"
   ]
  },
  {
   "cell_type": "code",
   "execution_count": null,
   "metadata": {},
   "outputs": [],
   "source": []
  },
  {
   "cell_type": "code",
   "execution_count": null,
   "metadata": {},
   "outputs": [],
   "source": []
  },
  {
   "cell_type": "code",
   "execution_count": null,
   "metadata": {
    "collapsed": true
   },
   "outputs": [],
   "source": []
  }
 ],
 "metadata": {
  "kernelspec": {
   "display_name": "Python 2",
   "language": "python",
   "name": "python2"
  },
  "language_info": {
   "codemirror_mode": {
    "name": "ipython",
    "version": 2
   },
   "file_extension": ".py",
   "mimetype": "text/x-python",
   "name": "python",
   "nbconvert_exporter": "python",
   "pygments_lexer": "ipython2",
   "version": "2.7.13"
  }
 },
 "nbformat": 4,
 "nbformat_minor": 2
}
